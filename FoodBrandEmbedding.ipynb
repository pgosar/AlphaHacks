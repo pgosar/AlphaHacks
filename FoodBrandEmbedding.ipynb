{
  "nbformat": 4,
  "nbformat_minor": 0,
  "metadata": {
    "colab": {
      "name": "FoodBrandEmbedding",
      "provenance": [],
      "collapsed_sections": [],
      "authorship_tag": "ABX9TyPDZHTTC7AnUOH0A90oMHZB",
      "include_colab_link": true
    },
    "kernelspec": {
      "name": "python3",
      "display_name": "Python 3"
    },
    "language_info": {
      "name": "python"
    }
  },
  "cells": [
    {
      "cell_type": "markdown",
      "metadata": {
        "id": "view-in-github",
        "colab_type": "text"
      },
      "source": [
        "<a href=\"https://colab.research.google.com/github/pgosar/AlphaHacks/blob/main/FoodBrandEmbedding.ipynb\" target=\"_parent\"><img src=\"https://colab.research.google.com/assets/colab-badge.svg\" alt=\"Open In Colab\"/></a>"
      ]
    },
    {
      "cell_type": "code",
      "metadata": {
        "id": "WwEHQsLLOW9N"
      },
      "source": [
        "!pip install fire\n",
        "!pip install wikipedia"
      ],
      "execution_count": null,
      "outputs": []
    },
    {
      "cell_type": "code",
      "metadata": {
        "id": "69xadS_prrQx"
      },
      "source": [
        "import io\n",
        "import os\n",
        "import shutil\n",
        "import re\n",
        "import string\n",
        "import tensorflow as tf\n",
        "import numpy as np\n",
        "\n",
        "import logging\n",
        "import wikipedia\n",
        "import random\n",
        "\n",
        "import json\n",
        "import google\n",
        "\n",
        "import nltk\n",
        "from nltk.corpus import stopwords\n",
        "\n",
        "from tensorflow.keras import Sequential\n",
        "from tensorflow.keras.layers import Dense, Embedding, GlobalAveragePooling1D\n",
        "from tensorflow.keras.layers.experimental.preprocessing import TextVectorization"
      ],
      "execution_count": 3,
      "outputs": []
    },
    {
      "cell_type": "code",
      "metadata": {
        "colab": {
          "base_uri": "https://localhost:8080/"
        },
        "id": "QAFOOelOrdW0",
        "outputId": "62566c31-9aeb-4436-dc10-44dceefee6c4"
      },
      "source": [
        "glove_url = \"http://nlp.stanford.edu/data/glove.6B.zip\"\n",
        "glove_embeddings = tf.keras.utils.get_file(\"glove.6B.zip\", glove_url, extract = True, cache_dir='.',\n",
        "                                  cache_subdir='')"
      ],
      "execution_count": 3,
      "outputs": [
        {
          "output_type": "stream",
          "text": [
            "Downloading data from http://nlp.stanford.edu/data/glove.6B.zip\n",
            "862183424/862182613 [==============================] - 160s 0us/step\n"
          ],
          "name": "stdout"
        }
      ]
    },
    {
      "cell_type": "code",
      "metadata": {
        "colab": {
          "base_uri": "https://localhost:8080/"
        },
        "id": "hTr3cBNTKhC2",
        "outputId": "f1e72ff7-6f52-4356-a54f-c85c42bbbd34"
      },
      "source": [
        "nltk.download('stopwords')"
      ],
      "execution_count": 4,
      "outputs": [
        {
          "output_type": "stream",
          "text": [
            "[nltk_data] Downloading package stopwords to /root/nltk_data...\n",
            "[nltk_data]   Unzipping corpora/stopwords.zip.\n"
          ],
          "name": "stdout"
        },
        {
          "output_type": "execute_result",
          "data": {
            "text/plain": [
              "True"
            ]
          },
          "metadata": {
            "tags": []
          },
          "execution_count": 4
        }
      ]
    },
    {
      "cell_type": "code",
      "metadata": {
        "id": "SOyOU4Jx9B5q"
      },
      "source": [
        "GLOVE_PATH = \"/content/glove.6B.200d.txt\""
      ],
      "execution_count": 5,
      "outputs": []
    },
    {
      "cell_type": "code",
      "metadata": {
        "id": "5LSqp6Rl88u-"
      },
      "source": [
        "class GloveEmbeddings:\n",
        "    GLOVE_DIR = GLOVE_PATH\n",
        "    EMBEDDING_DIM = 200\n",
        "\n",
        "    @staticmethod\n",
        "    def get_dict_word_embedding(path=GLOVE_DIR, embedding_dim=EMBEDDING_DIM):\n",
        "        f = open(path.format(dim=embedding_dim))\n",
        "\n",
        "        word2emb = dict()\n",
        "        for line in f:\n",
        "            values = line.split()\n",
        "            word = values[0]\n",
        "            coefs = np.asarray(values[1:], dtype='float32')\n",
        "            word2emb[word] = coefs\n",
        "        f.close()\n",
        "        return word2emb"
      ],
      "execution_count": 6,
      "outputs": []
    },
    {
      "cell_type": "code",
      "metadata": {
        "id": "3UYcAEHN9wRf"
      },
      "source": [
        "GloveEmbeddings.get_dict_word_embedding()"
      ],
      "execution_count": null,
      "outputs": []
    },
    {
      "cell_type": "code",
      "metadata": {
        "id": "kRId8kBw99lA"
      },
      "source": [
        "IGNORE_WORDS = set(stopwords.words())"
      ],
      "execution_count": 7,
      "outputs": []
    },
    {
      "cell_type": "code",
      "metadata": {
        "id": "HpVMDn1LBpnr"
      },
      "source": [
        "_brand_list_fpath = \"/content/data/brand_list2.txt\"\n",
        "DEFAULT_SET_BRANDS = set()\n",
        "with open(_brand_list_fpath) as fp:\n",
        "    for line in fp.readlines():\n",
        "        line = line.strip()\n",
        "        if not line:\n",
        "            continue\n",
        "        DEFAULT_SET_BRANDS.add(line)"
      ],
      "execution_count": null,
      "outputs": []
    },
    {
      "cell_type": "code",
      "metadata": {
        "id": "e-L5HmasINKQ"
      },
      "source": [
        "DEFAULT_BRAND_EMB_SAVE_FPATH = 'data/brand_emb.json'\n",
        "ENV_EMBEDDING_GLOVE_6B_FPATH = 'data/glove_embeddings/glove.6B.200d.txt'"
      ],
      "execution_count": null,
      "outputs": []
    },
    {
      "cell_type": "code",
      "metadata": {
        "id": "-MggebTiIKMC"
      },
      "source": [
        "DEFAULT_SET_BRANDS"
      ],
      "execution_count": null,
      "outputs": []
    },
    {
      "cell_type": "code",
      "metadata": {
        "id": "RHuYQnZSN1U3"
      },
      "source": [
        "logger = logging.getLogger(__name__)"
      ],
      "execution_count": 11,
      "outputs": []
    },
    {
      "cell_type": "markdown",
      "metadata": {
        "id": "EwFibpBWNEUE"
      },
      "source": [
        "#LOAD DATA"
      ]
    },
    {
      "cell_type": "code",
      "metadata": {
        "id": "01clPgZuQuZm"
      },
      "source": [
        "title_api = \"https://en.wikipedia.org/w/api.php?action=query&format=json&titles=\"\n",
        "search_api = \"https://en.wikipedia.org/w/api.php?action=opensearch&limit=1&namespace=0&format=json&search=\"\n",
        "pageid_api = \"https://en.wikipedia.org/w/api.php?action=query&prop=extracts|revisions&rvslots=*&rvprop=content&format=json&pageids=\"\n",
        "summary_api = \"https://en.wikipedia.org/w/api.php?action=query&prop=extracts&exsentences=10&exlimit=1&explaintext=1&format=json&pageids=\"\n",
        "summary_api_title = \"https://en.wikipedia.org/w/api.php?action=query&prop=extracts&exsentences=10&exlimit=1&explaintext=1&format=json&titles=\"\n",
        "page_content_api = \"https://en.wikipedia.org/w/api.php?action=query&prop=extracts|revisions&exlimit=1&explaintext=1&format=json&pageids=\"\n",
        "\n",
        "brand_list_fp = \"/content/cleaned_brand_list.json\"\n",
        "emb_save_fp = \"embeddings.json\""
      ],
      "execution_count": 5,
      "outputs": []
    },
    {
      "cell_type": "code",
      "metadata": {
        "id": "x8yKKWdyM81m"
      },
      "source": [
        "\n",
        "def load_checkpoint(inPath):\n",
        "  with open(inPath) as fp:\n",
        "    temp_dict = json.load(fp)\n",
        "  return temp_dict\n",
        "\n",
        "brand_dict = load_checkpoint(brand_list_fp)"
      ],
      "execution_count": 7,
      "outputs": []
    },
    {
      "cell_type": "code",
      "metadata": {
        "id": "xso4AuZlPYBw"
      },
      "source": [
        "import fire\n",
        "import json\n",
        "import codecs\n",
        "import requests\n",
        "from string import punctuation"
      ],
      "execution_count": 8,
      "outputs": []
    },
    {
      "cell_type": "code",
      "metadata": {
        "id": "ybL4Ye8hWlLV"
      },
      "source": [
        "test_dict = {k: brand_dict[k] for k in list(brand_dict)[:100]}"
      ],
      "execution_count": 16,
      "outputs": []
    },
    {
      "cell_type": "code",
      "metadata": {
        "id": "2PdGFaKNQxBc"
      },
      "source": [
        "def build_embeddings(brand_list = brand_dict, fpath_save = emb_save_fp, set_ignore_words = IGNORE_WORDS):\n",
        "  logger.info(\"building knowledge base\")\n",
        "  dict_brand_name_emb = dict()\n",
        "\n",
        "  wrd2emb = GloveEmbeddings.get_dict_word_embedding()\n",
        "\n",
        "  for page, id in brand_dict.items():\n",
        "    result = requests.get(page_content_api + id)\n",
        "    json_data = result.json()\n",
        "\n",
        "    content = json_data['query']['pages'][id]['extract']\n",
        "\n",
        "    text_tokens = content.split()\n",
        "    list_emb = list()\n",
        "    \n",
        "    for token in text_tokens:\n",
        "      token = token.lower()\n",
        "      token = token.strip(punctuation)\n",
        "      if token in set_ignore_words:\n",
        "        #logger.info(\"Token ignored: {}\".format(token))\n",
        "        continue\n",
        "          \n",
        "      emb = wrd2emb.get(token, None)\n",
        "      if emb is not None:\n",
        "        list_emb.append(emb)\n",
        "    \n",
        "    brand_array = np.array(list_emb)\n",
        "    brand_emb = brand_array.mean(axis=0)\n",
        "    \n",
        "    dict_brand_name_emb[page] = brand_emb.tolist()\n",
        "    \n",
        "  logger.info(\"saving knowledge base to: `{}`\".format(fpath_save))\n",
        "  with codecs.open(fpath_save, 'w', encoding='utf-8') as fp:\n",
        "    json.dump(dict_brand_name_emb, fp, separators=(',', ':'), indent=4)\n",
        "\n",
        "  logger.info(\"knowledge base compiled\")\n",
        "  print(\"knowledge base compiled\")"
      ],
      "execution_count": 23,
      "outputs": []
    },
    {
      "cell_type": "code",
      "metadata": {
        "colab": {
          "base_uri": "https://localhost:8080/"
        },
        "id": "xp06dkjjWyV7",
        "outputId": "73cf157a-25c3-45cb-ed4a-a7befd0f1a30"
      },
      "source": [
        "build_embeddings()"
      ],
      "execution_count": 24,
      "outputs": [
        {
          "output_type": "stream",
          "text": [
            "knowledge base compiled\n"
          ],
          "name": "stdout"
        }
      ]
    },
    {
      "cell_type": "code",
      "metadata": {
        "colab": {
          "base_uri": "https://localhost:8080/"
        },
        "id": "XHDdtSa-j3y8",
        "outputId": "614e2313-1c53-4d3e-c73f-222f0c561870"
      },
      "source": [
        "os.path.getsize(\"/content/data/brand_emb.json\")/1000000"
      ],
      "execution_count": null,
      "outputs": [
        {
          "output_type": "execute_result",
          "data": {
            "text/plain": [
              "0.23748"
            ]
          },
          "metadata": {
            "tags": []
          },
          "execution_count": 26
        }
      ]
    },
    {
      "cell_type": "code",
      "metadata": {
        "colab": {
          "base_uri": "https://localhost:8080/",
          "height": 68
        },
        "id": "6gNLW3VizQy1",
        "outputId": "dd2246a3-c1ec-4f4e-fb93-39a033a0c4fc"
      },
      "source": [
        "wikipedia.summary(\"501\".encode(\"ascii\", \"ignore\"), auto_suggest = False)"
      ],
      "execution_count": null,
      "outputs": [
        {
          "output_type": "execute_result",
          "data": {
            "application/vnd.google.colaboratory.intrinsic+json": {
              "type": "string"
            },
            "text/plain": [
              "'Year 501 (DI) was a common year starting on Monday (link will display the full calendar) of the Julian calendar. At the time, it was known as the Year of the Consulship of Avienus and Pompeius (or, less frequently, year 1254 Ab urbe condita). The denomination 501 for this year has been used since the early medieval period, when the Anno Domini calendar era became the prevalent method in Europe for naming years.\\n\\n'"
            ]
          },
          "metadata": {
            "tags": []
          },
          "execution_count": 101
        }
      ]
    },
    {
      "cell_type": "code",
      "metadata": {
        "id": "GlknZggDaU4V"
      },
      "source": [
        "import operator\n",
        "def query(target_brand_name, top_n=None, kb_fpath=emb_save_fp, dict_kb=None):\n",
        "\n",
        "    if type(target_brand_name) == str:\n",
        "        target_brand_name = str(target_brand_name)\n",
        "\n",
        "    if dict_kb is None:\n",
        "        with codecs.open(kb_fpath, encoding='utf-8') as fp:\n",
        "            dict_kb = json.load(fp)\n",
        "\n",
        "    target_brand_emb = np.array(dict_kb[target_brand_name])\n",
        "\n",
        "    dict_brand_name_emb_distance = dict()\n",
        "    for candidate_brand_name, candidate_emb in dict_kb.items():\n",
        "\n",
        "        if candidate_brand_name == target_brand_name:\n",
        "            continue\n",
        "\n",
        "        emb_dist = np.linalg.norm(target_brand_emb - np.array(candidate_emb))\n",
        "        dict_brand_name_emb_distance[candidate_brand_name] = emb_dist\n",
        "\n",
        "    sorted_dict = sorted(dict_brand_name_emb_distance.items(), key=operator.itemgetter(1))\n",
        "\n",
        "    if top_n:\n",
        "        sorted_dict = sorted_dict[: top_n]\n",
        "\n",
        "    logger.debug(\"{}: {}\".format(target_brand_name, sorted_dict))\n",
        "\n",
        "    return sorted_dict\n"
      ],
      "execution_count": 9,
      "outputs": []
    },
    {
      "cell_type": "code",
      "metadata": {
        "id": "uIOY24MRYNEc"
      },
      "source": [
        ""
      ],
      "execution_count": null,
      "outputs": []
    },
    {
      "cell_type": "code",
      "metadata": {
        "id": "w3CPY9RYYrar"
      },
      "source": [
        "brand_dict[\"Nestlé\"]"
      ],
      "execution_count": null,
      "outputs": []
    },
    {
      "cell_type": "code",
      "metadata": {
        "colab": {
          "base_uri": "https://localhost:8080/"
        },
        "id": "3ZWprA0UInFS",
        "outputId": "b4c2724b-2ff9-4b41-8b7c-d9e4c7851626"
      },
      "source": [
        "query(\"Westminster Cracker Company\", top_n = 20)"
      ],
      "execution_count": 14,
      "outputs": [
        {
          "output_type": "execute_result",
          "data": {
            "text/plain": [
              "[(\"French's\", 1.0210970768265688),\n",
              " (\"Burton's Biscuit Company\", 1.0369832046649143),\n",
              " (\"Isaly's\", 1.0587993738818866),\n",
              " ('Schmidt Baking Company', 1.0620453866584048),\n",
              " ('F._Duerr_%26_Sons', 1.0673729099433862),\n",
              " ('Ginsters', 1.080721504447736),\n",
              " ('Whetstone Chocolates', 1.087312435942856),\n",
              " ('McKee Foods', 1.0997297622283482),\n",
              " (\"Elmer's Fine Foods\", 1.1036887116373064),\n",
              " ('The Warrell Corporation', 1.1107880451024428),\n",
              " (\"McCowan's\", 1.1112232406687914),\n",
              " (\"Murray's Cheese\", 1.115138164475348),\n",
              " ('Wise Foods', 1.1208526723909311),\n",
              " ('HP Hood', 1.1222385065330829),\n",
              " ('Dare Foods', 1.1274152903235632),\n",
              " ('Tootsie Roll Industries', 1.133117027793418),\n",
              " ('Just Born', 1.135243687418404),\n",
              " ('Baxters', 1.1405863809937007),\n",
              " (\"Peter's Food Services\", 1.1423701391898216),\n",
              " ('Warburtons', 1.1465846598603804)]"
            ]
          },
          "metadata": {
            "tags": []
          },
          "execution_count": 14
        }
      ]
    },
    {
      "cell_type": "code",
      "metadata": {
        "colab": {
          "base_uri": "https://localhost:8080/"
        },
        "id": "oYB6TcdfemPH",
        "outputId": "d6a2fd71-562a-41e7-9013-70c772793839"
      },
      "source": [
        "os.path.getsize(emb_save_fp)/1000000"
      ],
      "execution_count": 40,
      "outputs": [
        {
          "output_type": "execute_result",
          "data": {
            "text/plain": [
              "6.66232"
            ]
          },
          "metadata": {
            "tags": []
          },
          "execution_count": 40
        }
      ]
    },
    {
      "cell_type": "code",
      "metadata": {
        "id": "87zsHy5faWwv"
      },
      "source": [
        "def query_list(list_target_brand_name, top_n=None, kb_fpath=DEFAULT_BRAND_EMB_SAVE_FPATH):\n",
        "\n",
        "    with codecs.open(kb_fpath, encoding='utf-8') as fp:\n",
        "        dict_kb = json.load(fp)\n",
        "\n",
        "    dict_results = dict()\n",
        "    for idx, target_brand_name in enumerate(list_target_brand_name, start=1):\n",
        "        sorted_candidate_brands = query(target_brand_name, top_n=top_n, dict_kb=dict_kb)\n",
        "\n",
        "        dict_results[target_brand_name] = sorted_candidate_brands\n",
        "\n",
        "    return dict_results"
      ],
      "execution_count": null,
      "outputs": []
    }
  ]
}