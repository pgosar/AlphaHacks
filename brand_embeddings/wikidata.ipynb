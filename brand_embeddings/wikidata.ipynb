{
  "nbformat": 4,
  "nbformat_minor": 0,
  "metadata": {
    "colab": {
      "name": "wiki2.ipynb",
      "provenance": [],
      "authorship_tag": "ABX9TyN3ZHZhihhvCS2jMzhAu18S",
      "include_colab_link": true
    },
    "kernelspec": {
      "name": "python3",
      "display_name": "Python 3"
    },
    "language_info": {
      "name": "python"
    }
  },
  "cells": [
    {
      "cell_type": "markdown",
      "metadata": {
        "id": "view-in-github",
        "colab_type": "text"
      },
      "source": [
        "<a href=\"https://colab.research.google.com/github/pgosar/AlphaHacks/blob/main/brand_embeddings/wikidata.ipynb\" target=\"_parent\"><img src=\"https://colab.research.google.com/assets/colab-badge.svg\" alt=\"Open In Colab\"/></a>"
      ]
    },
    {
      "cell_type": "code",
      "metadata": {
        "id": "f8oo_ArRokdG"
      },
      "source": [
        "!pip install fire\n",
        "!pip install wikipedia\n",
        "\n",
        "!pip install beautifulsoup4\n",
        "!pip install google\n",
        "!pip install requests"
      ],
      "execution_count": null,
      "outputs": []
    },
    {
      "cell_type": "code",
      "metadata": {
        "id": "z70aJoWKonj4"
      },
      "source": [
        "import io\n",
        "import os\n",
        "import shutil\n",
        "import re\n",
        "import string\n",
        "import tensorflow as tf\n",
        "import numpy as np\n",
        "\n",
        "import logging\n",
        "import wikipedia\n",
        "import random\n",
        "\n",
        "from bs4 import BeautifulSoup as bs\n",
        "import requests\n",
        "import json\n",
        "\n",
        "import nltk\n",
        "from nltk.corpus import stopwords\n",
        "\n",
        "from googlesearch import search\n",
        "\n",
        "from tensorflow.keras import Sequential\n",
        "from tensorflow.keras.layers import Dense, Embedding, GlobalAveragePooling1D\n",
        "from tensorflow.keras.layers.experimental.preprocessing import TextVectorization"
      ],
      "execution_count": null,
      "outputs": []
    },
    {
      "cell_type": "code",
      "metadata": {
        "id": "wL7HMA3_otrF"
      },
      "source": [
        "title_api = \"https://en.wikipedia.org/w/api.php?action=query&format=json&titles=\"\n",
        "search_api = \"https://en.wikipedia.org/w/api.php?action=opensearch&limit=1&namespace=0&format=json&search=\"\n",
        "pageid_api = \"https://en.wikipedia.org/w/api.php?action=query&prop=extracts|revisions&rvslots=*&rvprop=content&format=json&pageids=\"\n",
        "summary_api = \"https://en.wikipedia.org/w/api.php?action=query&prop=extracts&exsentences=10&exlimit=1&explaintext=1&format=json&pageids=\"\n",
        "summary_api_title = \"https://en.wikipedia.org/w/api.php?action=query&prop=extracts&exsentences=10&exlimit=1&explaintext=1&format=json&titles=\""
      ],
      "execution_count": null,
      "outputs": []
    },
    {
      "cell_type": "code",
      "metadata": {
        "id": "j-It92WnouGz"
      },
      "source": [
        "#GET LIST OF PAGE ID's\n",
        "company_list_link = \"https://en.wikipedia.org/wiki/List_of_food_companies\"\n",
        "\n",
        "res = requests.get(company_list_link)\n",
        "soup = bs(res.text, \"html.parser\")\n",
        "link_list = {}\n",
        "page_dict = {}\n",
        "for link in soup.find_all(\"a\"):\n",
        "    url = link.get(\"href\", \"\")\n",
        "    if \"/wiki/\" in url:\n",
        "      link_list[link.text.strip()] = url\n",
        "\n",
        "print(link_list)\n",
        "\n",
        "for link_title in link_list:\n",
        "  api_request = title_api + link_title\n",
        "  response = requests.get(api_request)\n",
        "  json_data = response.json()\n",
        "  try:\n",
        "    temp_value = list((json_data['query']['pages'].keys()))[0]\n",
        "    print(temp_value)\n",
        "    page_dict[link_title] = temp_value\n",
        "  except KeyError:\n",
        "    print(\"KeyError w/ \", link_title)\n",
        "    continue\n",
        "\n",
        "print(page_dict)"
      ],
      "execution_count": null,
      "outputs": []
    },
    {
      "cell_type": "code",
      "metadata": {
        "id": "oCnsqjw0ozvV"
      },
      "source": [
        "with open('init_page_dict.json', 'w') as fp:\n",
        "    json.dump(page_dict, fp)"
      ],
      "execution_count": null,
      "outputs": []
    },
    {
      "cell_type": "code",
      "metadata": {
        "id": "h573TVO7o1eL"
      },
      "source": [
        "with open('init_page_dict.json') as fp:\n",
        "  page_dict = json.load(fp)"
      ],
      "execution_count": null,
      "outputs": []
    },
    {
      "cell_type": "code",
      "metadata": {
        "id": "axmqzxi_o2MJ"
      },
      "source": [
        "search_dict = {title: page_dict[title] for title in list(page_dict) if page_dict[title] == '-1'}"
      ],
      "execution_count": null,
      "outputs": []
    },
    {
      "cell_type": "code",
      "metadata": {
        "id": "2yWUlTPpo46V"
      },
      "source": [
        "keyword_list = ['brand', 'company', 'business', 'retail', 'manufact']\n",
        "popped_list =[]\n",
        "\n",
        "for title, id in search_dict.copy().items():\n",
        "  found_alt = False\n",
        "  for j in search(title + \"food company\", tld=\"co.in\", num=5, stop=10, pause=2):\n",
        "    if \"wikipedia\" in j:\n",
        "      #print(j)\n",
        "      new_name = j.split('/')[-1]\n",
        "      #print(new_name)\n",
        "      found_alt = True\n",
        "      break\n",
        "\n",
        "  search_dict.pop(title)\n",
        "  if found_alt:\n",
        "    result = requests.get(summary_api_title + new_name)\n",
        "    json_data = result.json()\n",
        "    new_id = list((json_data['query']['pages'].keys()))[0]\n",
        "    print(\"New Name: {}, New ID: {}\".format(new_name, new_id))\n",
        "    search_dict[new_name] = new_id\n",
        "\n",
        "  page_dict.pop(title)"
      ],
      "execution_count": null,
      "outputs": []
    },
    {
      "cell_type": "code",
      "metadata": {
        "id": "627do4mWo7M9"
      },
      "source": [
        "#Canon\n",
        "for title, id in search_dict.copy().items():\n",
        "  if \"List\" in title or id == '-1' or \"wiki\" in title.lower():\n",
        "    popped_list.append(title)\n",
        "    search_dict.pop(title)\n",
        "    continue"
      ],
      "execution_count": null,
      "outputs": []
    },
    {
      "cell_type": "code",
      "metadata": {
        "id": "W2CVhq1vo9Zs"
      },
      "source": [
        "for title, id in search_dict.items():\n",
        "  page_dict[title] = id"
      ],
      "execution_count": null,
      "outputs": []
    },
    {
      "cell_type": "code",
      "metadata": {
        "id": "yI6bdBk3pBEq"
      },
      "source": [
        ""
      ],
      "execution_count": null,
      "outputs": []
    }
  ]
}